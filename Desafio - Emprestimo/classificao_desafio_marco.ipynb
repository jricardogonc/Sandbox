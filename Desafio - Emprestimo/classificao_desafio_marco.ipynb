{
  "nbformat": 4,
  "nbformat_minor": 0,
  "metadata": {
    "colab": {
      "name": "classificao_desafio_marco.ipynb",
      "version": "0.3.2",
      "provenance": [],
      "collapsed_sections": []
    },
    "kernelspec": {
      "name": "python3",
      "display_name": "Python 3"
    }
  },
  "cells": [
    {
      "metadata": {
        "id": "hXbdL4O10mg7",
        "colab_type": "code",
        "colab": {}
      },
      "cell_type": "code",
      "source": [
        "from sklearn import linear_model\n",
        "import pandas as pd\n",
        "import numpy as np\n",
        "\n",
        "Data = pd.read_csv('/content/train.csv')\n",
        "Data_resultado = Data.iloc[:,-1:]\n",
        "Data = Data.iloc[:,1:-1]\n",
        "Data = pd.get_dummies(Data)\n",
        "resultado = Data_resultado['Loan_Status'].map({'Y': 1, 'N': 0})\n",
        "Data = Data.fillna(Data.dropna().mean())\n",
        "Data_result = Data.copy()"
      ],
      "execution_count": 0,
      "outputs": []
    },
    {
      "metadata": {
        "id": "V9dPeQpjGNzs",
        "colab_type": "code",
        "colab": {}
      },
      "cell_type": "code",
      "source": [
        "mean_ApplicantIncome = Data_result['ApplicantIncome'].mean()\n",
        "mean_CoapplicantIncome = Data_result['CoapplicantIncome'].mean()\n",
        "mean_LoanAmount = Data_result['LoanAmount'].mean()\n",
        "mean_Loan_Amount_Term = Data_result['Loan_Amount_Term'].mean()\n",
        "mean_Credit_History = Data_result['Credit_History'].mean()\n",
        "\n",
        "var_ApplicantIncome = Data_result['ApplicantIncome'].std()\n",
        "var_CoapplicantIncome = Data_result['CoapplicantIncome'].std()\n",
        "var_LoanAmount = Data_result['LoanAmount'].std()\n",
        "var_Loan_Amount_Term = Data_result['Loan_Amount_Term'].std()\n",
        "var_Credit_History = Data_result['Credit_History'].std()"
      ],
      "execution_count": 0,
      "outputs": []
    },
    {
      "metadata": {
        "id": "7qrmD-V7H4hi",
        "colab_type": "code",
        "colab": {}
      },
      "cell_type": "code",
      "source": [
        "Data_result['Credit_History'] = Data_result['Credit_History'].apply(lambda h: (h-mean_Credit_History)/var_Credit_History)\n",
        "Data_result['ApplicantIncome'] = Data_result['ApplicantIncome'].apply(lambda h: (h-mean_ApplicantIncome)/var_ApplicantIncome)\n",
        "Data_result['CoapplicantIncome'] = Data_result['CoapplicantIncome'].apply(lambda h: (h-mean_CoapplicantIncome)/var_CoapplicantIncome)\n",
        "Data_result['LoanAmount'] = Data_result['LoanAmount'].apply(lambda h: (h-mean_LoanAmount)/var_LoanAmount)\n",
        "Data_result['Loan_Amount_Term'] = Data_result['Loan_Amount_Term'].apply(lambda h: (h-mean_Loan_Amount_Term)/var_Loan_Amount_Term)"
      ],
      "execution_count": 0,
      "outputs": []
    },
    {
      "metadata": {
        "id": "mXq74qDjMmxg",
        "colab_type": "code",
        "colab": {}
      },
      "cell_type": "code",
      "source": [
        ""
      ],
      "execution_count": 0,
      "outputs": []
    },
    {
      "metadata": {
        "id": "Y3yVI1DE6vMC",
        "colab_type": "code",
        "colab": {}
      },
      "cell_type": "code",
      "source": [
        "Data_test = pd.read_csv('/content/test.csv')\n",
        "Data_test = Data_test.iloc[:,1:]\n",
        "Data_test = pd.get_dummies(Data_test)\n",
        "Data_test = Data_test.fillna(Data_test.dropna().mean())\n",
        "Data_resultado_test = Data_test.copy()"
      ],
      "execution_count": 0,
      "outputs": []
    },
    {
      "metadata": {
        "id": "GIW-d1G09Udl",
        "colab_type": "code",
        "colab": {}
      },
      "cell_type": "code",
      "source": [
        "from sklearn.linear_model import LogisticRegression\n",
        "from sklearn.model_selection import train_test_split\n",
        "from sklearn.metrics import accuracy_score\n",
        "from sklearn.metrics import r2_score\n",
        "from sklearn.feature_selection import chi2\n",
        "X_train, X_test, y_train, y_test = train_test_split(Data_result,resultado)"
      ],
      "execution_count": 0,
      "outputs": []
    },
    {
      "metadata": {
        "id": "rVNjuF-69vL8",
        "colab_type": "code",
        "outputId": "9f87f881-8ccf-4ad1-a9da-2b28c7d08699",
        "colab": {
          "base_uri": "https://localhost:8080/",
          "height": 680
        }
      },
      "cell_type": "code",
      "source": [
        "columns = list(Data_result.columns.values)\n",
        "best_ele = \"inicio\"\n",
        "X_train_w = X_train.copy()\n",
        "X_test_w = X_test.copy()\n",
        "\n",
        "while len(best_ele) > 0 and len(columns) > 1:\n",
        "  logreg = LogisticRegression()\n",
        "\n",
        "  logreg.fit(X_train_w, y_train)\n",
        "\n",
        "  Z_lr = logreg.predict(X_test_w)\n",
        "  print(accuracy_score(np.asarray(y_test),Z_lr))\n",
        "  best_ele = ''\n",
        "  best_acc = accuracy_score(np.asarray(y_test),Z_lr)\n",
        "\n",
        "  for ele in columns:\n",
        "    Data_temp = X_train_w.drop([ele],axis=1)\n",
        "    Data_teste_temp = X_test_w.drop([ele],axis=1)\n",
        "    logreg_temp = LogisticRegression()\n",
        "    logreg_temp.fit(Data_temp, y_train)\n",
        "    Z_temp = logreg_temp.predict(Data_teste_temp)\n",
        "    acc_temp = accuracy_score(np.asarray(y_test),Z_temp)\n",
        "    if acc_temp >= best_acc:\n",
        "      best_ele = ele\n",
        "      best_acc = acc_temp\n",
        "  print(best_ele, best_acc)\n",
        "  \n",
        "  if len(best_ele) > 0:\n",
        "    X_train_w = X_train_w.drop([best_ele],axis=1)\n",
        "    X_test_w = X_test_w.drop([best_ele],axis=1)\n",
        "    columns.remove(best_ele)\n",
        "print(columns)"
      ],
      "execution_count": 0,
      "outputs": [
        {
          "output_type": "stream",
          "text": [
            "0.8246753246753247\n",
            "Property_Area_Urban 0.8246753246753247\n",
            "0.8246753246753247\n",
            "Property_Area_Semiurban 0.8246753246753247\n",
            "0.8246753246753247\n",
            "Property_Area_Rural 0.8246753246753247\n",
            "0.8246753246753247\n",
            "Self_Employed_Yes 0.8246753246753247\n",
            "0.8246753246753247\n",
            "Self_Employed_No 0.8246753246753247\n",
            "0.8246753246753247\n",
            "Education_Not Graduate 0.8246753246753247\n",
            "0.8246753246753247\n",
            "Education_Graduate 0.8246753246753247\n",
            "0.8246753246753247\n",
            "Dependents_3+ 0.8246753246753247\n",
            "0.8246753246753247\n",
            "Dependents_2 0.8246753246753247\n",
            "0.8246753246753247\n",
            "Dependents_1 0.8246753246753247\n",
            "0.8246753246753247\n",
            "Dependents_0 0.8246753246753247\n",
            "0.8246753246753247\n",
            "Married_Yes 0.8246753246753247\n",
            "0.8246753246753247\n",
            "Married_No 0.8246753246753247\n",
            "0.8246753246753247\n",
            "Gender_Male 0.8246753246753247\n",
            "0.8246753246753247\n",
            "Gender_Female 0.8246753246753247\n",
            "0.8246753246753247\n",
            "Loan_Amount_Term 0.8246753246753247\n",
            "0.8246753246753247\n",
            "LoanAmount 0.8246753246753247\n",
            "0.8246753246753247\n",
            "CoapplicantIncome 0.8246753246753247\n",
            "0.8246753246753247\n",
            "ApplicantIncome 0.8246753246753247\n",
            "['Credit_History']\n"
          ],
          "name": "stdout"
        }
      ]
    },
    {
      "metadata": {
        "id": "5nmnq0HYCsey",
        "colab_type": "code",
        "outputId": "0859f6fc-1c20-499a-d0d3-e37fee2e5136",
        "colab": {
          "base_uri": "https://localhost:8080/",
          "height": 680
        }
      },
      "cell_type": "code",
      "source": [
        "from sklearn.tree import DecisionTreeClassifier\n",
        "\n",
        "columns = list(Data_result.columns.values)\n",
        "best_ele = \"inicio\"\n",
        "X_train_w = X_train.copy()\n",
        "X_test_w = X_test.copy()\n",
        "\n",
        "while len(best_ele) > 0 and len(columns) > 1:\n",
        "  logreg = DecisionTreeClassifier(max_depth=4)\n",
        "\n",
        "  logreg.fit(X_train_w, y_train)\n",
        "\n",
        "  Z_dtc = logreg.predict(X_test_w)\n",
        "  print(accuracy_score(np.asarray(y_test),Z_dtc))\n",
        "  best_ele = ''\n",
        "  best_acc = accuracy_score(np.asarray(y_test),Z_dtc)\n",
        "\n",
        "  for ele in columns:\n",
        "    Data_temp = X_train_w.drop([ele],axis=1)\n",
        "    Data_teste_temp = X_test_w.drop([ele],axis=1)\n",
        "    logreg_temp = DecisionTreeClassifier(max_depth=4)\n",
        "    logreg_temp.fit(Data_temp, y_train)\n",
        "    Z_temp = logreg_temp.predict(Data_teste_temp)\n",
        "    acc_temp = accuracy_score(np.asarray(y_test),Z_temp)\n",
        "    if acc_temp >= best_acc:\n",
        "      best_ele = ele\n",
        "      best_acc = acc_temp\n",
        "  print(best_ele, best_acc)\n",
        "  \n",
        "  if len(best_ele) > 0:\n",
        "    X_train_w = X_train_w.drop([best_ele],axis=1)\n",
        "    X_test_w = X_test_w.drop([best_ele],axis=1)\n",
        "    columns.remove(best_ele)\n",
        "print(columns)"
      ],
      "execution_count": 0,
      "outputs": [
        {
          "output_type": "stream",
          "text": [
            "0.8246753246753247\n",
            "Property_Area_Semiurban 0.8246753246753247\n",
            "0.8181818181818182\n",
            "Property_Area_Urban 0.8246753246753247\n",
            "0.8246753246753247\n",
            "Property_Area_Rural 0.8246753246753247\n",
            "0.8181818181818182\n",
            "Education_Not Graduate 0.8246753246753247\n",
            "0.8246753246753247\n",
            "Self_Employed_Yes 0.8246753246753247\n",
            "0.8246753246753247\n",
            "Dependents_2 0.8246753246753247\n",
            "0.8181818181818182\n",
            "Self_Employed_No 0.8246753246753247\n",
            "0.8246753246753247\n",
            "Education_Graduate 0.8246753246753247\n",
            "0.8246753246753247\n",
            "Dependents_3+ 0.8246753246753247\n",
            "0.8181818181818182\n",
            "Dependents_1 0.8246753246753247\n",
            "0.8246753246753247\n",
            "Dependents_0 0.8246753246753247\n",
            "0.8181818181818182\n",
            "Married_Yes 0.8246753246753247\n",
            "0.8181818181818182\n",
            "Married_No 0.8246753246753247\n",
            "0.8181818181818182\n",
            "Gender_Male 0.8246753246753247\n",
            "0.8181818181818182\n",
            "Gender_Female 0.8246753246753247\n",
            "0.8181818181818182\n",
            "Loan_Amount_Term 0.8181818181818182\n",
            "0.8181818181818182\n",
            "CoapplicantIncome 0.8246753246753247\n",
            "0.8246753246753247\n",
            "ApplicantIncome 0.8246753246753247\n",
            "0.8246753246753247\n",
            "LoanAmount 0.8246753246753247\n",
            "['Credit_History']\n"
          ],
          "name": "stdout"
        }
      ]
    },
    {
      "metadata": {
        "id": "GvAL-e09Dl2I",
        "colab_type": "code",
        "outputId": "0de5ac5d-a3f4-4266-c088-7e74ae032e08",
        "colab": {
          "base_uri": "https://localhost:8080/",
          "height": 442
        }
      },
      "cell_type": "code",
      "source": [
        "from sklearn.ensemble import RandomForestClassifier\n",
        "columns = list(Data_result.columns.values)\n",
        "best_ele = \"inicio\"\n",
        "X_train_w = X_train.copy()\n",
        "X_test_w = X_test.copy()\n",
        "    \n",
        "while len(best_ele) > 0 and len(columns) > 1:\n",
        "  logreg = RandomForestClassifier()\n",
        "\n",
        "  logreg.fit(X_train_w, y_train)\n",
        "\n",
        "  Z_rfc = logreg.predict(X_test_w)\n",
        "  print(accuracy_score(np.asarray(y_test),Z_rfc))\n",
        "  best_ele = ''\n",
        "  best_acc = accuracy_score(np.asarray(y_test),Z_rfc)\n",
        "\n",
        "  for ele in columns:\n",
        "    Data_temp = X_train_w.drop([ele],axis=1)\n",
        "    Data_teste_temp = X_test_w.drop([ele],axis=1)\n",
        "    logreg_temp = RandomForestClassifier()\n",
        "    logreg_temp.fit(Data_temp, y_train)\n",
        "    Z_temp = logreg_temp.predict(Data_teste_temp)\n",
        "    acc_temp = accuracy_score(np.asarray(y_test),Z_temp)\n",
        "    if acc_temp >= best_acc:\n",
        "      best_ele = ele\n",
        "      best_acc = acc_temp\n",
        "  print(best_ele, best_acc)\n",
        "  \n",
        "  if len(best_ele) > 0:\n",
        "    X_train_w = X_train_w.drop([best_ele],axis=1)\n",
        "    X_test_w = X_test_w.drop([best_ele],axis=1)\n",
        "    columns.remove(best_ele)\n",
        "print(columns)"
      ],
      "execution_count": 0,
      "outputs": [
        {
          "output_type": "stream",
          "text": [
            "0.7922077922077922\n",
            "Property_Area_Urban 0.7987012987012987\n",
            "0.7792207792207793\n",
            "Gender_Female 0.8181818181818182\n",
            "0.8116883116883117\n",
            "Education_Graduate 0.8116883116883117\n",
            "0.7792207792207793\n",
            "Gender_Male 0.8246753246753247\n",
            "0.7922077922077922\n",
            "Married_No 0.8116883116883117\n",
            "0.7662337662337663\n",
            "Dependents_3+ 0.8116883116883117\n",
            "0.7987012987012987\n",
            "CoapplicantIncome 0.8116883116883117\n",
            "0.7922077922077922\n",
            "Education_Not Graduate 0.8181818181818182\n",
            "0.8181818181818182\n",
            "Self_Employed_No 0.8246753246753247\n",
            "0.8311688311688312\n",
            "Property_Area_Semiurban 0.8441558441558441\n",
            "0.7922077922077922\n",
            "Married_Yes 0.8311688311688312\n",
            "0.8311688311688312\n",
            " 0.8311688311688312\n",
            "['ApplicantIncome', 'LoanAmount', 'Loan_Amount_Term', 'Credit_History', 'Dependents_0', 'Dependents_1', 'Dependents_2', 'Self_Employed_Yes', 'Property_Area_Rural']\n"
          ],
          "name": "stdout"
        }
      ]
    },
    {
      "metadata": {
        "id": "DY9L5HKsD5si",
        "colab_type": "code",
        "outputId": "d6873fc3-ed77-40d1-ded5-604ac3ade22f",
        "colab": {
          "base_uri": "https://localhost:8080/",
          "height": 646
        }
      },
      "cell_type": "code",
      "source": [
        "from sklearn.ensemble import AdaBoostClassifier\n",
        "columns = list(Data_result.columns.values)\n",
        "best_ele = \"inicio\"\n",
        "X_train_w = X_train.copy()\n",
        "X_test_w = X_test.copy()\n",
        "\n",
        "while len(best_ele) > 0 and len(columns) > 1:\n",
        "  logreg = AdaBoostClassifier()\n",
        "\n",
        "  logreg.fit(X_train_w, y_train)\n",
        "\n",
        "  Z_ada = logreg.predict(X_test_w)\n",
        "  print(accuracy_score(np.asarray(y_test),Z_ada))\n",
        "  best_ele = ''\n",
        "  best_acc = accuracy_score(np.asarray(y_test),Z_ada)\n",
        "\n",
        "  for ele in columns:\n",
        "    Data_temp = X_train_w.drop([ele],axis=1)\n",
        "    Data_teste_temp = X_test_w.drop([ele],axis=1)\n",
        "    logreg_temp = AdaBoostClassifier()\n",
        "    logreg_temp.fit(Data_temp, y_train)\n",
        "    Z_temp = logreg_temp.predict(Data_teste_temp)\n",
        "    acc_temp = accuracy_score(np.asarray(y_test),Z_temp)\n",
        "    if acc_temp >= best_acc:\n",
        "      best_ele = ele\n",
        "      best_acc = acc_temp\n",
        "  print(best_ele, best_acc)\n",
        "  \n",
        "  if len(best_ele) > 0:\n",
        "    X_train_w = X_train_w.drop([best_ele],axis=1)\n",
        "    X_test_w = X_test_w.drop([best_ele],axis=1)\n",
        "    columns.remove(best_ele)\n",
        "print(columns)"
      ],
      "execution_count": 0,
      "outputs": [
        {
          "output_type": "stream",
          "text": [
            "0.8116883116883117\n",
            "Property_Area_Rural 0.8181818181818182\n",
            "0.8181818181818182\n",
            "Property_Area_Urban 0.8181818181818182\n",
            "0.8181818181818182\n",
            "Self_Employed_Yes 0.8181818181818182\n",
            "0.8181818181818182\n",
            "Self_Employed_No 0.8181818181818182\n",
            "0.8181818181818182\n",
            "Education_Not Graduate 0.8181818181818182\n",
            "0.8181818181818182\n",
            "Dependents_3+ 0.8181818181818182\n",
            "0.8181818181818182\n",
            "Dependents_2 0.8181818181818182\n",
            "0.8181818181818182\n",
            "Married_Yes 0.8181818181818182\n",
            "0.8181818181818182\n",
            "Gender_Male 0.8181818181818182\n",
            "0.8181818181818182\n",
            "Gender_Female 0.8181818181818182\n",
            "0.8181818181818182\n",
            "Loan_Amount_Term 0.8181818181818182\n",
            "0.8181818181818182\n",
            "Dependents_1 0.8246753246753247\n",
            "0.8246753246753247\n",
            "Dependents_0 0.8246753246753247\n",
            "0.8246753246753247\n",
            "LoanAmount 0.8246753246753247\n",
            "0.8246753246753247\n",
            "CoapplicantIncome 0.8311688311688312\n",
            "0.8311688311688312\n",
            "Property_Area_Semiurban 0.8311688311688312\n",
            "0.8311688311688312\n",
            "Education_Graduate 0.8311688311688312\n",
            "0.8311688311688312\n",
            " 0.8311688311688312\n",
            "['ApplicantIncome', 'Credit_History', 'Married_No']\n"
          ],
          "name": "stdout"
        }
      ]
    },
    {
      "metadata": {
        "id": "NuN9q1BtEaiR",
        "colab_type": "code",
        "outputId": "f873b126-b763-422d-9caa-89770a0ac9b8",
        "colab": {
          "base_uri": "https://localhost:8080/",
          "height": 190
        }
      },
      "cell_type": "code",
      "source": [
        "from sklearn.ensemble import BaggingClassifier\n",
        "\n",
        "\n",
        "columns = list(Data_result.columns.values)\n",
        "best_ele = \"inicio\"\n",
        "X_train_w = X_train.copy()\n",
        "X_test_w = X_test.copy()\n",
        "\n",
        "while len(best_ele) > 0 and len(columns) > 1:\n",
        "  logreg = BaggingClassifier()\n",
        "\n",
        "  logreg.fit(X_train_w, y_train)\n",
        "\n",
        "  Z_bag = logreg.predict(X_test_w)\n",
        "  print(accuracy_score(np.asarray(y_test),Z_bag))\n",
        "  best_ele = ''\n",
        "  best_acc = accuracy_score(np.asarray(y_test),Z_bag)\n",
        "\n",
        "  for ele in columns:\n",
        "    Data_temp = X_train_w.drop([ele],axis=1)\n",
        "    Data_teste_temp = X_test_w.drop([ele],axis=1)\n",
        "    logreg_temp = BaggingClassifier()\n",
        "    logreg_temp.fit(Data_temp, y_train)\n",
        "    Z_temp = logreg_temp.predict(Data_teste_temp)\n",
        "    acc_temp = accuracy_score(np.asarray(y_test),Z_temp)\n",
        "    if acc_temp >= best_acc:\n",
        "      best_ele = ele\n",
        "      best_acc = acc_temp\n",
        "  print(best_ele, best_acc)\n",
        "  \n",
        "  if len(best_ele) > 0:\n",
        "    X_train_w = X_train_w.drop([best_ele],axis=1)\n",
        "    X_test_w = X_test_w.drop([best_ele],axis=1)\n",
        "    columns.remove(best_ele)\n",
        "print(columns)"
      ],
      "execution_count": 0,
      "outputs": [
        {
          "output_type": "stream",
          "text": [
            "0.7987012987012987\n",
            "Dependents_0 0.8441558441558441\n",
            "0.7922077922077922\n",
            "Self_Employed_No 0.8181818181818182\n",
            "0.7792207792207793\n",
            "Dependents_3+ 0.8116883116883117\n",
            "0.8116883116883117\n",
            " 0.8116883116883117\n",
            "['ApplicantIncome', 'CoapplicantIncome', 'LoanAmount', 'Loan_Amount_Term', 'Credit_History', 'Gender_Female', 'Gender_Male', 'Married_No', 'Married_Yes', 'Dependents_1', 'Dependents_2', 'Education_Graduate', 'Education_Not Graduate', 'Self_Employed_Yes', 'Property_Area_Rural', 'Property_Area_Semiurban', 'Property_Area_Urban']\n"
          ],
          "name": "stdout"
        }
      ]
    },
    {
      "metadata": {
        "id": "LzxH1yGSEjXn",
        "colab_type": "code",
        "outputId": "ec999299-3cf9-4b33-b49d-73a5833c669c",
        "colab": {
          "base_uri": "https://localhost:8080/",
          "height": 408
        }
      },
      "cell_type": "code",
      "source": [
        "from sklearn.ensemble import GradientBoostingClassifier\n",
        "columns = list(Data_result.columns.values)\n",
        "best_ele = \"inicio\"\n",
        "X_train_w = X_train.copy()\n",
        "X_test_w = X_test.copy()\n",
        "\n",
        "while len(best_ele) > 0 and len(columns) > 1:\n",
        "  logreg = GradientBoostingClassifier()\n",
        "\n",
        "  logreg.fit(X_train_w, y_train)\n",
        "\n",
        "  Z_grad = logreg.predict(X_test_w)\n",
        "  print(accuracy_score(np.asarray(y_test),Z_grad))\n",
        "  best_ele = ''\n",
        "  best_acc = accuracy_score(np.asarray(y_test),Z_grad)\n",
        "\n",
        "  for ele in columns:\n",
        "    Data_temp = X_train_w.drop([ele],axis=1)\n",
        "    Data_teste_temp = X_test_w.drop([ele],axis=1)\n",
        "    logreg_temp = GradientBoostingClassifier()\n",
        "    logreg_temp.fit(Data_temp, y_train)\n",
        "    Z_temp = logreg_temp.predict(Data_teste_temp)\n",
        "    acc_temp = accuracy_score(np.asarray(y_test),Z_temp)\n",
        "    if acc_temp >= best_acc:\n",
        "      best_ele = ele\n",
        "      best_acc = acc_temp\n",
        "  print(best_ele, best_acc)\n",
        "  \n",
        "  if len(best_ele) > 0:\n",
        "    X_train_w = X_train_w.drop([best_ele],axis=1)\n",
        "    X_test_w = X_test_w.drop([best_ele],axis=1)\n",
        "    columns.remove(best_ele)\n",
        "print(columns)"
      ],
      "execution_count": 0,
      "outputs": [
        {
          "output_type": "stream",
          "text": [
            "0.8116883116883117\n",
            "CoapplicantIncome 0.8246753246753247\n",
            "0.8246753246753247\n",
            "Self_Employed_Yes 0.8246753246753247\n",
            "0.8246753246753247\n",
            "Education_Not Graduate 0.8246753246753247\n",
            "0.8246753246753247\n",
            "Education_Graduate 0.8246753246753247\n",
            "0.8246753246753247\n",
            "Property_Area_Urban 0.8311688311688312\n",
            "0.8246753246753247\n",
            "Self_Employed_No 0.8246753246753247\n",
            "0.8246753246753247\n",
            "Dependents_3+ 0.8246753246753247\n",
            "0.8246753246753247\n",
            "Gender_Female 0.8311688311688312\n",
            "0.8311688311688312\n",
            "Dependents_2 0.8311688311688312\n",
            "0.8311688311688312\n",
            "Gender_Male 0.8311688311688312\n",
            "0.8311688311688312\n",
            " 0.8311688311688312\n",
            "['ApplicantIncome', 'LoanAmount', 'Loan_Amount_Term', 'Credit_History', 'Married_No', 'Married_Yes', 'Dependents_0', 'Dependents_1', 'Property_Area_Rural', 'Property_Area_Semiurban']\n"
          ],
          "name": "stdout"
        }
      ]
    },
    {
      "metadata": {
        "id": "mQj7MteSFNzv",
        "colab_type": "code",
        "outputId": "36e9fb9a-e592-4745-fd84-1df3e694a740",
        "colab": {
          "base_uri": "https://localhost:8080/",
          "height": 258
        }
      },
      "cell_type": "code",
      "source": [
        "from sklearn.neighbors import KNeighborsClassifier\n",
        "columns = list(X_train.columns.values)\n",
        "best_ele = \"inicio\"\n",
        "X_train_w = X_train.copy()\n",
        "X_test_w = X_test.copy()\n",
        "\n",
        "while len(best_ele) > 0 and len(columns) > 1:\n",
        "  logreg = KNeighborsClassifier(n_neighbors=3)\n",
        "\n",
        "  logreg.fit(X_train_w, y_train)\n",
        "\n",
        "  Z_knn = logreg.predict(X_test_w)\n",
        "  print(accuracy_score(np.asarray(y_test),Z_knn))\n",
        "  best_ele = ''\n",
        "  best_acc = accuracy_score(np.asarray(y_test),Z_knn)\n",
        "\n",
        "  for ele in columns:\n",
        "    Data_temp = X_train_w.drop([ele],axis=1)\n",
        "    Data_teste_temp = X_test_w.drop([ele],axis=1)\n",
        "    logreg_temp = KNeighborsClassifier(n_neighbors=3)\n",
        "    logreg_temp.fit(Data_temp, y_train)\n",
        "    Z_temp = logreg_temp.predict(Data_teste_temp)\n",
        "    acc_temp = accuracy_score(np.asarray(y_test),Z_temp)\n",
        "    if acc_temp >= best_acc:\n",
        "      best_ele = ele\n",
        "      best_acc = acc_temp\n",
        "  print(best_ele, best_acc)\n",
        "  \n",
        "  if len(best_ele) > 0:\n",
        "    X_train_w = X_train_w.drop([best_ele],axis=1)\n",
        "    X_test_w = X_test_w.drop([best_ele],axis=1)\n",
        "    columns.remove(best_ele)\n",
        "print(columns)"
      ],
      "execution_count": 0,
      "outputs": [
        {
          "output_type": "stream",
          "text": [
            "0.7857142857142857\n",
            "CoapplicantIncome 0.8116883116883117\n",
            "0.8116883116883117\n",
            "Dependents_1 0.8246753246753247\n",
            "0.8246753246753247\n",
            "Education_Not Graduate 0.8246753246753247\n",
            "0.8246753246753247\n",
            "Dependents_3+ 0.8246753246753247\n",
            "0.8246753246753247\n",
            "Dependents_2 0.8246753246753247\n",
            "0.8246753246753247\n",
            " 0.8246753246753247\n",
            "['ApplicantIncome', 'LoanAmount', 'Loan_Amount_Term', 'Credit_History', 'Gender_Female', 'Gender_Male', 'Married_No', 'Married_Yes', 'Dependents_0', 'Education_Graduate', 'Self_Employed_No', 'Self_Employed_Yes', 'Property_Area_Rural', 'Property_Area_Semiurban', 'Property_Area_Urban']\n"
          ],
          "name": "stdout"
        }
      ]
    },
    {
      "metadata": {
        "id": "boB_XLu4Flfd",
        "colab_type": "code",
        "outputId": "4ad221ce-c4d6-41d7-a6fc-89d90487545f",
        "colab": {
          "base_uri": "https://localhost:8080/",
          "height": 680
        }
      },
      "cell_type": "code",
      "source": [
        "from sklearn import svm\n",
        "sv = svm.SVC()\n",
        "\n",
        "sv.fit(X_train, y_train)\n",
        "\n",
        "y_sv = sv.predict(X_test)\n",
        "accuracy_score(np.asarray(y_test),y_sv)\n",
        "\n",
        "\n",
        "\n",
        "from sklearn.neighbors import KNeighborsClassifier\n",
        "columns = list(X_train.columns.values)\n",
        "best_ele = \"inicio\"\n",
        "X_train_w = X_train.copy()\n",
        "X_test_w = X_test.copy()\n",
        "\n",
        "while len(best_ele) > 0 and len(columns) > 1:\n",
        "  logreg = svm.SVC()\n",
        "\n",
        "  logreg.fit(X_train_w, y_train)\n",
        "\n",
        "  Z_svm = logreg.predict(X_test_w)\n",
        "  print(accuracy_score(np.asarray(y_test),Z_svm))\n",
        "  best_ele = ''\n",
        "  best_acc = accuracy_score(np.asarray(y_test),Z_svm)\n",
        "\n",
        "  for ele in columns:\n",
        "    Data_temp = X_train_w.drop([ele],axis=1)\n",
        "    Data_teste_temp = X_test_w.drop([ele],axis=1)\n",
        "    logreg_temp = svm.SVC()\n",
        "    logreg_temp.fit(Data_temp, y_train)\n",
        "    Z_temp = logreg_temp.predict(Data_teste_temp)\n",
        "    acc_temp = accuracy_score(np.asarray(y_test),Z_temp)\n",
        "    if acc_temp >= best_acc:\n",
        "      best_ele = ele\n",
        "      best_acc = acc_temp\n",
        "  print(best_ele, best_acc)\n",
        "  \n",
        "  if len(best_ele) > 0:\n",
        "    X_train_w = X_train_w.drop([best_ele],axis=1)\n",
        "    X_test_w = X_test_w.drop([best_ele],axis=1)\n",
        "    columns.remove(best_ele)\n",
        "print(columns)"
      ],
      "execution_count": 0,
      "outputs": [
        {
          "output_type": "stream",
          "text": [
            "0.8311688311688312\n",
            "Property_Area_Urban 0.8311688311688312\n",
            "0.8311688311688312\n",
            "Property_Area_Semiurban 0.8311688311688312\n",
            "0.8311688311688312\n",
            "Property_Area_Rural 0.8311688311688312\n",
            "0.8311688311688312\n",
            "Self_Employed_Yes 0.8311688311688312\n",
            "0.8311688311688312\n",
            "Self_Employed_No 0.8311688311688312\n",
            "0.8311688311688312\n",
            "Education_Not Graduate 0.8311688311688312\n",
            "0.8311688311688312\n",
            "Education_Graduate 0.8311688311688312\n",
            "0.8311688311688312\n",
            "Dependents_3+ 0.8311688311688312\n",
            "0.8311688311688312\n",
            "Dependents_2 0.8311688311688312\n",
            "0.8311688311688312\n",
            "Dependents_1 0.8311688311688312\n",
            "0.8311688311688312\n",
            "Dependents_0 0.8311688311688312\n",
            "0.8311688311688312\n",
            "Married_Yes 0.8311688311688312\n",
            "0.8311688311688312\n",
            "Married_No 0.8311688311688312\n",
            "0.8311688311688312\n",
            "Gender_Male 0.8311688311688312\n",
            "0.8311688311688312\n",
            "Gender_Female 0.8311688311688312\n",
            "0.8311688311688312\n",
            "Loan_Amount_Term 0.8311688311688312\n",
            "0.8311688311688312\n",
            "LoanAmount 0.8311688311688312\n",
            "0.8311688311688312\n",
            "CoapplicantIncome 0.8311688311688312\n",
            "0.8311688311688312\n",
            " 0.8311688311688312\n",
            "['ApplicantIncome', 'Credit_History']\n"
          ],
          "name": "stdout"
        }
      ]
    },
    {
      "metadata": {
        "id": "sPIEgGqboIgl",
        "colab_type": "code",
        "outputId": "832e5b9a-fcf4-4cac-8333-44256e8d4597",
        "colab": {
          "base_uri": "https://localhost:8080/",
          "height": 105
        }
      },
      "cell_type": "code",
      "source": [
        "from sklearn import svm\n",
        "\n",
        "\n",
        "columns = list(X_train.columns.values)\n",
        "\n",
        "best_ele = \"inicio\"\n",
        "FIRSTX_train_w = X_train.copy()\n",
        "FIRSTX_test_w = X_test.copy()\n",
        "\n",
        "best_acc = 0\n",
        "for ele in columns:\n",
        "  columns_temp = columns.copy()\n",
        "  columns_temp.remove(ele)\n",
        "  Data_temp = FIRSTX_train_w.drop(columns_temp,axis=1)\n",
        "  Data_teste_temp = FIRSTX_test_w.drop(columns_temp,axis=1)\n",
        "  logreg_temp = svm.SVC()\n",
        "  logreg_temp.fit(Data_temp, y_train)\n",
        "  Z_temp = logreg_temp.predict(Data_teste_temp)\n",
        "  acc_temp = accuracy_score(np.asarray(y_test),Z_temp)\n",
        "  if acc_temp >= best_acc:\n",
        "    best_ele = ele\n",
        "    best_acc = acc_temp\n",
        "print(best_ele)\n",
        "\n",
        "columns.remove(best_ele)\n",
        "EXCLUDEDcolumns = columns.copy()\n",
        "X_train_w = FIRSTX_train_w.drop(columns,axis=1)\n",
        "X_test_w = FIRSTX_test_w.drop(columns,axis=1)\n",
        "\n",
        "best_ele = \"inicio\"\n",
        "\n",
        "while len(best_ele) > 0 and len(columns) > 1:\n",
        "  logreg = svm.SVC()\n",
        "  \n",
        "  \n",
        "  X_train_w = FIRSTX_train_w.drop(columns,axis=1)\n",
        "  X_test_w = FIRSTX_test_w.drop(columns,axis=1)\n",
        "  logreg.fit(X_train_w, y_train)\n",
        "\n",
        "  Z = logreg.predict(X_test_w)\n",
        "  print(accuracy_score(np.asarray(y_test),Z))\n",
        "  best_ele = ''\n",
        "  best_acc = accuracy_score(np.asarray(y_test),Z)\n",
        "\n",
        "  for ele in columns:\n",
        "    EXCLUDEDcolumns_tmp = EXCLUDEDcolumns.copy()\n",
        "    EXCLUDEDcolumns_tmp.remove(ele)\n",
        "    Data_temp = FIRSTX_train_w.drop(EXCLUDEDcolumns_tmp,axis=1)\n",
        "    Data_teste_temp = FIRSTX_test_w.drop(EXCLUDEDcolumns_tmp,axis=1)\n",
        "    logreg_temp = svm.SVC()\n",
        "    logreg_temp.fit(Data_temp, y_train)\n",
        "    Z_temp = logreg_temp.predict(Data_teste_temp)\n",
        "    acc_temp = accuracy_score(np.asarray(y_test),Z_temp)\n",
        "    if acc_temp > best_acc:\n",
        "      best_ele = ele\n",
        "      best_acc = acc_temp\n",
        "  print(best_ele, best_acc)\n",
        "  \n",
        "  if len(best_ele) > 0:\n",
        "    X_train_w = FIRSTX_train_w.drop(EXCLUDEDcolumns_tmp,axis=1)\n",
        "    X_test_w = FIRSTX_test_w.drop(EXCLUDEDcolumns_tmp,axis=1)\n",
        "    EXCLUDEDcolumns.remove(best_ele)\n",
        "    columns.remove(best_ele)\n",
        "print(EXCLUDEDcolumns)"
      ],
      "execution_count": 0,
      "outputs": [
        {
          "output_type": "stream",
          "text": [
            "Credit_History\n",
            "0.8441558441558441\n",
            " 0.8441558441558441\n",
            "['ApplicantIncome', 'CoapplicantIncome', 'LoanAmount', 'Loan_Amount_Term', 'Gender_Female', 'Gender_Male', 'Married_No', 'Married_Yes', 'Dependents_0', 'Dependents_1', 'Dependents_2', 'Dependents_3+', 'Education_Graduate', 'Education_Not Graduate', 'Self_Employed_No', 'Self_Employed_Yes', 'Property_Area_Rural', 'Property_Area_Semiurban', 'Property_Area_Urban']\n"
          ],
          "name": "stdout"
        }
      ]
    },
    {
      "metadata": {
        "id": "hUkP1Simvs2H",
        "colab_type": "code",
        "outputId": "f36a9cf2-513b-4af0-fbec-aa5cbd41ce95",
        "colab": {
          "base_uri": "https://localhost:8080/",
          "height": 105
        }
      },
      "cell_type": "code",
      "source": [
        "from sklearn.neighbors import KNeighborsClassifier\n",
        "\n",
        "columns = list(X_train.columns.values)\n",
        "\n",
        "best_ele = \"inicio\"\n",
        "FIRSTX_train_w = X_train.copy()\n",
        "FIRSTX_test_w = X_test.copy()\n",
        "\n",
        "best_acc = 0\n",
        "for ele in columns:\n",
        "  columns_temp = columns.copy()\n",
        "  columns_temp.remove(ele)\n",
        "  Data_temp = FIRSTX_train_w.drop(columns_temp,axis=1)\n",
        "  Data_teste_temp = FIRSTX_test_w.drop(columns_temp,axis=1)\n",
        "  logreg_temp = KNeighborsClassifier(n_neighbors=3)\n",
        "  logreg_temp.fit(Data_temp, y_train)\n",
        "  Z_temp = logreg_temp.predict(Data_teste_temp)\n",
        "  acc_temp = accuracy_score(np.asarray(y_test),Z_temp)\n",
        "  if acc_temp >= best_acc:\n",
        "    best_ele = ele\n",
        "    best_acc = acc_temp\n",
        "print(best_ele)\n",
        "\n",
        "columns.remove(best_ele)\n",
        "EXCLUDEDcolumns = columns.copy()\n",
        "X_train_w = FIRSTX_train_w.drop(columns,axis=1)\n",
        "X_test_w = FIRSTX_test_w.drop(columns,axis=1)\n",
        "\n",
        "best_ele = \"inicio\"\n",
        "\n",
        "while len(best_ele) > 0 and len(columns) > 1:\n",
        "  logreg = KNeighborsClassifier(n_neighbors=3)\n",
        "  \n",
        "  \n",
        "  X_train_w = FIRSTX_train_w.drop(columns,axis=1)\n",
        "  X_test_w = FIRSTX_test_w.drop(columns,axis=1)\n",
        "  logreg.fit(X_train_w, y_train)\n",
        "\n",
        "  Z = logreg.predict(X_test_w)\n",
        "  print(accuracy_score(np.asarray(y_test),Z))\n",
        "  best_ele = ''\n",
        "  best_acc = accuracy_score(np.asarray(y_test),Z)\n",
        "\n",
        "  for ele in columns:\n",
        "    EXCLUDEDcolumns_tmp = EXCLUDEDcolumns.copy()\n",
        "    EXCLUDEDcolumns_tmp.remove(ele)\n",
        "    Data_temp = FIRSTX_train_w.drop(EXCLUDEDcolumns_tmp,axis=1)\n",
        "    Data_teste_temp = FIRSTX_test_w.drop(EXCLUDEDcolumns_tmp,axis=1)\n",
        "    logreg_temp = KNeighborsClassifier(n_neighbors=3)\n",
        "    logreg_temp.fit(Data_temp, y_train)\n",
        "    Z_temp = logreg_temp.predict(Data_teste_temp)\n",
        "    acc_temp = accuracy_score(np.asarray(y_test),Z_temp)\n",
        "    if acc_temp > best_acc:\n",
        "      best_ele = ele\n",
        "      best_acc = acc_temp\n",
        "  print(best_ele, best_acc)\n",
        "  \n",
        "  if len(best_ele) > 0:\n",
        "    X_train_w = FIRSTX_train_w.drop(EXCLUDEDcolumns_tmp,axis=1)\n",
        "    X_test_w = FIRSTX_test_w.drop(EXCLUDEDcolumns_tmp,axis=1)\n",
        "    EXCLUDEDcolumns.remove(best_ele)\n",
        "    columns.remove(best_ele)\n",
        "print(EXCLUDEDcolumns)"
      ],
      "execution_count": 0,
      "outputs": [
        {
          "output_type": "stream",
          "text": [
            "Credit_History\n",
            "0.8441558441558441\n",
            " 0.8441558441558441\n",
            "['ApplicantIncome', 'CoapplicantIncome', 'LoanAmount', 'Loan_Amount_Term', 'Gender_Female', 'Gender_Male', 'Married_No', 'Married_Yes', 'Dependents_0', 'Dependents_1', 'Dependents_2', 'Dependents_3+', 'Education_Graduate', 'Education_Not Graduate', 'Self_Employed_No', 'Self_Employed_Yes', 'Property_Area_Rural', 'Property_Area_Semiurban', 'Property_Area_Urban']\n"
          ],
          "name": "stdout"
        }
      ]
    },
    {
      "metadata": {
        "id": "QPYBbxeiyI97",
        "colab_type": "code",
        "outputId": "aecf23f8-d458-496f-dd8b-b055e8db6d76",
        "colab": {
          "base_uri": "https://localhost:8080/",
          "height": 326
        }
      },
      "cell_type": "code",
      "source": [
        "from sklearn.ensemble import ExtraTreesClassifier\n",
        "columns = list(X_train.columns.values)\n",
        "best_ele = \"inicio\"\n",
        "X_train_w = X_train.copy()\n",
        "X_test_w = X_test.copy()\n",
        "\n",
        "while len(best_ele) > 0 and len(columns) > 1:\n",
        "  logreg = ExtraTreesClassifier()\n",
        "\n",
        "  logreg.fit(X_train_w, y_train)\n",
        "\n",
        "  Z_etree= logreg.predict(X_test_w)\n",
        "  print(accuracy_score(np.asarray(y_test),Z_etree))\n",
        "  best_ele = ''\n",
        "  best_acc = accuracy_score(np.asarray(y_test),Z_etree)\n",
        "\n",
        "  for ele in columns:\n",
        "    Data_temp = X_train_w.drop([ele],axis=1)\n",
        "    Data_teste_temp = X_test_w.drop([ele],axis=1)\n",
        "    logreg_temp = ExtraTreesClassifier()\n",
        "    logreg_temp.fit(Data_temp, y_train)\n",
        "    Z_temp = logreg_temp.predict(Data_teste_temp)\n",
        "    acc_temp = accuracy_score(np.asarray(y_test),Z_temp)\n",
        "    if acc_temp >= best_acc:\n",
        "      best_ele = ele\n",
        "      best_acc = acc_temp\n",
        "  print(best_ele, best_acc)\n",
        "  \n",
        "  if len(best_ele) > 0:\n",
        "    X_train_w = X_train_w.drop([best_ele],axis=1)\n",
        "    X_test_w = X_test_w.drop([best_ele],axis=1)\n",
        "    columns.remove(best_ele)\n",
        "print(columns)"
      ],
      "execution_count": 0,
      "outputs": [
        {
          "output_type": "stream",
          "text": [
            "0.7467532467532467\n",
            "Property_Area_Urban 0.7792207792207793\n",
            "0.7662337662337663\n",
            "Self_Employed_Yes 0.7792207792207793\n",
            "0.7532467532467533\n",
            "Married_No 0.8116883116883117\n",
            "0.7662337662337663\n",
            "Education_Graduate 0.7857142857142857\n",
            "0.7597402597402597\n",
            "Married_Yes 0.8051948051948052\n",
            "0.7922077922077922\n",
            "Gender_Male 0.8116883116883117\n",
            "0.7532467532467533\n",
            "Education_Not Graduate 0.7987012987012987\n",
            "0.8116883116883117\n",
            " 0.8116883116883117\n",
            "['ApplicantIncome', 'CoapplicantIncome', 'LoanAmount', 'Loan_Amount_Term', 'Credit_History', 'Gender_Female', 'Dependents_0', 'Dependents_1', 'Dependents_2', 'Dependents_3+', 'Self_Employed_No', 'Property_Area_Rural', 'Property_Area_Semiurban']\n"
          ],
          "name": "stdout"
        }
      ]
    },
    {
      "metadata": {
        "id": "pLiC4BYZy16C",
        "colab_type": "code",
        "outputId": "b68d506d-a4f8-47e3-8b4e-379e0e2f8ee9",
        "colab": {
          "base_uri": "https://localhost:8080/",
          "height": 34
        }
      },
      "cell_type": "code",
      "source": [
        "#votacao\n",
        "\n",
        "Z = Z_lr+ Z_rfc+Z_ada+Z_dtc+Z_bag+Z_grad+Z_knn+Z_svm+Z_etree\n",
        "\n",
        "Z = [1 if x > 4.5 else 0 for x in Z]\n",
        "\n",
        "acc_temp = accuracy_score(np.asarray(y_test),Z)\n",
        "\n",
        "acc_temp"
      ],
      "execution_count": 0,
      "outputs": [
        {
          "output_type": "execute_result",
          "data": {
            "text/plain": [
              "0.8376623376623377"
            ]
          },
          "metadata": {
            "tags": []
          },
          "execution_count": 450
        }
      ]
    },
    {
      "metadata": {
        "id": "eNeGLLYS2Oot",
        "colab_type": "code",
        "outputId": "ef14d9c8-fa92-4f5e-b9cb-8fbdbb6469b8",
        "colab": {
          "base_uri": "https://localhost:8080/",
          "height": 34
        }
      },
      "cell_type": "code",
      "source": [
        "#cross validation\n",
        "from sklearn import svm, grid_search\n",
        "from sklearn.model_selection import GridSearchCV\n",
        "def svc_param_selection(X, y, nfolds):\n",
        "    Cs = [0.001, 0.01, 0.1, 1, 10]\n",
        "    gammas = [0.001, 0.01, 0.1, 1]\n",
        "    param_grid = {'C': Cs, 'gamma' : gammas}\n",
        "    grid_search = GridSearchCV(svm.SVC(kernel='rbf'), param_grid, cv=nfolds)\n",
        "    grid_search.fit(X, y)\n",
        "    grid_search.best_params_\n",
        "    return grid_search.best_params_\n",
        "  \n",
        "svc_param_selection(X_train, y_train, 20)\n"
      ],
      "execution_count": 0,
      "outputs": [
        {
          "output_type": "execute_result",
          "data": {
            "text/plain": [
              "{'C': 1, 'gamma': 0.01}"
            ]
          },
          "metadata": {
            "tags": []
          },
          "execution_count": 458
        }
      ]
    },
    {
      "metadata": {
        "id": "y24jArz923bE",
        "colab_type": "code",
        "outputId": "5f126378-63ee-484f-e2b4-f6f2d8ae8a99",
        "colab": {
          "base_uri": "https://localhost:8080/",
          "height": 438
        }
      },
      "cell_type": "code",
      "source": [
        "param_grid = {'C': 1, 'gamma' : 0.01}\n",
        "grid_search = GridSearchCV(svm.SVC(kernel='rbf'), param_grid, cv=5)"
      ],
      "execution_count": 0,
      "outputs": [
        {
          "output_type": "error",
          "ename": "ValueError",
          "evalue": "ignored",
          "traceback": [
            "\u001b[0;31m---------------------------------------------------------------------------\u001b[0m",
            "\u001b[0;31mValueError\u001b[0m                                Traceback (most recent call last)",
            "\u001b[0;32m<ipython-input-460-a87d4384fa4b>\u001b[0m in \u001b[0;36m<module>\u001b[0;34m()\u001b[0m\n\u001b[1;32m      1\u001b[0m \u001b[0mparam_grid\u001b[0m \u001b[0;34m=\u001b[0m \u001b[0;34m{\u001b[0m\u001b[0;34m'C'\u001b[0m\u001b[0;34m:\u001b[0m \u001b[0;36m1\u001b[0m\u001b[0;34m,\u001b[0m \u001b[0;34m'gamma'\u001b[0m \u001b[0;34m:\u001b[0m \u001b[0;36m0.01\u001b[0m\u001b[0;34m}\u001b[0m\u001b[0;34m\u001b[0m\u001b[0m\n\u001b[0;32m----> 2\u001b[0;31m \u001b[0mgrid_search\u001b[0m \u001b[0;34m=\u001b[0m \u001b[0mGridSearchCV\u001b[0m\u001b[0;34m(\u001b[0m\u001b[0msvm\u001b[0m\u001b[0;34m.\u001b[0m\u001b[0mSVC\u001b[0m\u001b[0;34m(\u001b[0m\u001b[0mkernel\u001b[0m\u001b[0;34m=\u001b[0m\u001b[0;34m'rbf'\u001b[0m\u001b[0;34m)\u001b[0m\u001b[0;34m,\u001b[0m \u001b[0mparam_grid\u001b[0m\u001b[0;34m,\u001b[0m \u001b[0mcv\u001b[0m\u001b[0;34m=\u001b[0m\u001b[0;36m5\u001b[0m\u001b[0;34m)\u001b[0m\u001b[0;34m\u001b[0m\u001b[0m\n\u001b[0m",
            "\u001b[0;32m/usr/local/lib/python3.6/dist-packages/sklearn/model_selection/_search.py\u001b[0m in \u001b[0;36m__init__\u001b[0;34m(self, estimator, param_grid, scoring, fit_params, n_jobs, iid, refit, cv, verbose, pre_dispatch, error_score, return_train_score)\u001b[0m\n\u001b[1;32m   1076\u001b[0m             return_train_score=return_train_score)\n\u001b[1;32m   1077\u001b[0m         \u001b[0mself\u001b[0m\u001b[0;34m.\u001b[0m\u001b[0mparam_grid\u001b[0m \u001b[0;34m=\u001b[0m \u001b[0mparam_grid\u001b[0m\u001b[0;34m\u001b[0m\u001b[0m\n\u001b[0;32m-> 1078\u001b[0;31m         \u001b[0m_check_param_grid\u001b[0m\u001b[0;34m(\u001b[0m\u001b[0mparam_grid\u001b[0m\u001b[0;34m)\u001b[0m\u001b[0;34m\u001b[0m\u001b[0m\n\u001b[0m\u001b[1;32m   1079\u001b[0m \u001b[0;34m\u001b[0m\u001b[0m\n\u001b[1;32m   1080\u001b[0m     \u001b[0;32mdef\u001b[0m \u001b[0m_get_param_iterator\u001b[0m\u001b[0;34m(\u001b[0m\u001b[0mself\u001b[0m\u001b[0;34m)\u001b[0m\u001b[0;34m:\u001b[0m\u001b[0;34m\u001b[0m\u001b[0m\n",
            "\u001b[0;32m/usr/local/lib/python3.6/dist-packages/sklearn/model_selection/_search.py\u001b[0m in \u001b[0;36m_check_param_grid\u001b[0;34m(param_grid)\u001b[0m\n\u001b[1;32m    355\u001b[0m                 raise ValueError(\"Parameter values for parameter ({0}) need \"\n\u001b[1;32m    356\u001b[0m                                  \u001b[0;34m\"to be a sequence(but not a string) or\"\u001b[0m\u001b[0;34m\u001b[0m\u001b[0m\n\u001b[0;32m--> 357\u001b[0;31m                                  \" np.ndarray.\".format(name))\n\u001b[0m\u001b[1;32m    358\u001b[0m \u001b[0;34m\u001b[0m\u001b[0m\n\u001b[1;32m    359\u001b[0m             \u001b[0;32mif\u001b[0m \u001b[0mlen\u001b[0m\u001b[0;34m(\u001b[0m\u001b[0mv\u001b[0m\u001b[0;34m)\u001b[0m \u001b[0;34m==\u001b[0m \u001b[0;36m0\u001b[0m\u001b[0;34m:\u001b[0m\u001b[0;34m\u001b[0m\u001b[0m\n",
            "\u001b[0;31mValueError\u001b[0m: Parameter values for parameter (C) need to be a sequence(but not a string) or np.ndarray."
          ]
        }
      ]
    }
  ]
}